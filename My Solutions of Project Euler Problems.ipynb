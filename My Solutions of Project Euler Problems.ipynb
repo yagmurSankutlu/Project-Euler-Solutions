{
 "cells": [
  {
   "cell_type": "code",
   "execution_count": 1,
   "metadata": {},
   "outputs": [
    {
     "data": {
      "text/plain": [
       "array([1, 5, 3, 7])"
      ]
     },
     "execution_count": 1,
     "metadata": {},
     "output_type": "execute_result"
    }
   ],
   "source": [
    "import numpy as np \n",
    "np.array([1,5,3,7])"
   ]
  },
  {
   "cell_type": "code",
   "execution_count": 2,
   "metadata": {},
   "outputs": [],
   "source": [
    "a = ([1, 3, 5])"
   ]
  },
  {
   "cell_type": "code",
   "execution_count": 3,
   "metadata": {},
   "outputs": [
    {
     "data": {
      "text/plain": [
       "list"
      ]
     },
     "execution_count": 3,
     "metadata": {},
     "output_type": "execute_result"
    }
   ],
   "source": [
    "type(a)"
   ]
  },
  {
   "cell_type": "code",
   "execution_count": 4,
   "metadata": {},
   "outputs": [
    {
     "data": {
      "text/plain": [
       "False"
      ]
     },
     "execution_count": 4,
     "metadata": {},
     "output_type": "execute_result"
    }
   ],
   "source": [
    "a=5\n",
    "b=8\n",
    "a == b"
   ]
  },
  {
   "cell_type": "code",
   "execution_count": 5,
   "metadata": {},
   "outputs": [
    {
     "name": "stdout",
     "output_type": "stream",
     "text": [
      "a sayısı b sayısından küçüktür.\n"
     ]
    }
   ],
   "source": [
    "if ( a > b):\n",
    "    print(\"a sayısı b sayısından büyüktür.\")\n",
    "elif(a <b):\n",
    "    print(\"a sayısı b sayısından küçüktür.\")\n",
    "else:\n",
    "    print(\"a sayısı b sayısına eşittir.\")"
   ]
  },
  {
   "cell_type": "code",
   "execution_count": 6,
   "metadata": {},
   "outputs": [],
   "source": [
    "age=19\n",
    "wage=5000\n",
    "is_regular=True"
   ]
  },
  {
   "cell_type": "code",
   "execution_count": 7,
   "metadata": {},
   "outputs": [
    {
     "name": "stdout",
     "output_type": "stream",
     "text": [
      "yağmuş\n"
     ]
    }
   ],
   "source": [
    "if(age >18):\n",
    "    print(\"yağmuş\")\n",
    "elif(wage < 7500): #sadece if olsaydı çıktı yağmuş yaşın tutmuyor hacım olcaktı\n",
    "    print(\"zeynoş\")\n",
    "else:\n",
    "    print(\"Yaşın tutmuyor hacım.\")"
   ]
  },
  {
   "cell_type": "code",
   "execution_count": 8,
   "metadata": {},
   "outputs": [
    {
     "name": "stdout",
     "output_type": "stream",
     "text": [
      "Maaşın yetmiyor hacım.\n"
     ]
    }
   ],
   "source": [
    "if(age >18):\n",
    "    if(wage>7500):\n",
    "        print(\"Maaşın tutuyor\")\n",
    "        if(is_regular): #Bağısmız bir koşulu da ikinci bir koşul olarak değerlendirebiliriz. Buraya döneceğiz.\n",
    "            print(\"ve de düzenli helal.\")\n",
    "        else:\n",
    "            print(\"fakat düzensiz.Memur olsaydın!\")\n",
    "    else:\n",
    "        print(\"Maaşın yetmiyor hacım.\")\n",
    "\n",
    "else:\n",
    "    print(\"Yaşın tutmuyor hacım.\")"
   ]
  },
  {
   "cell_type": "code",
   "execution_count": 9,
   "metadata": {},
   "outputs": [],
   "source": [
    "age=19\n",
    "wage=3600\n",
    "is_regular=False"
   ]
  },
  {
   "cell_type": "code",
   "execution_count": 10,
   "metadata": {},
   "outputs": [
    {
     "name": "stdout",
     "output_type": "stream",
     "text": [
      "Maaşın yetmiyor hacım.\n"
     ]
    }
   ],
   "source": [
    "if(age >18):\n",
    "    if(wage>7500):\n",
    "        if(is_regular):\n",
    "            print(\"Maaşın da düzenli helal. Al kredin.\")\n",
    "        else:\n",
    "            print(\"Memur ol düzenli maaşın olsun.\")\n",
    "    else:\n",
    "        print(\"Maaşın yetmiyor hacım.\")  \n",
    "else:\n",
    "    print(\"Yaşın tutmuyor hacım.\")"
   ]
  },
  {
   "cell_type": "code",
   "execution_count": 11,
   "metadata": {},
   "outputs": [
    {
     "name": "stdout",
     "output_type": "stream",
     "text": [
      "Bir başka zaman..\n"
     ]
    }
   ],
   "source": [
    "if(age>18):\n",
    "    if((wage>7500 and is_regular) or (wage>35000)):\n",
    "        print(\"Helal krediyi aldın.\")\n",
    "    else:\n",
    "        print(\"Bir başka zaman..\")"
   ]
  },
  {
   "cell_type": "code",
   "execution_count": 14,
   "metadata": {},
   "outputs": [],
   "source": [
    "a =51\n",
    "k =1"
   ]
  },
  {
   "cell_type": "code",
   "execution_count": 15,
   "metadata": {},
   "outputs": [
    {
     "name": "stdout",
     "output_type": "stream",
     "text": [
      "tek ve karekökü: 7.14142842854285 7.14142842854285\n"
     ]
    }
   ],
   "source": [
    "if((a % 2) == 0 ):\n",
    "    if(a >= 50):\n",
    "        print(\"çift ve elliden büyük\")\n",
    "    else:\n",
    "        print(\"elliden küçük\")\n",
    "else:\n",
    "    print(\"tek ve karekökü:\" , a**(1/2), np.sqrt(a))\n",
    "    \n"
   ]
  },
  {
   "cell_type": "code",
   "execution_count": 17,
   "metadata": {},
   "outputs": [],
   "source": [
    "# Bir dijital içerik platformu kullanıcılarına fiyat teklifi yapmak istiyor. Normal durumlarda bir kullanıcılık hesap için 10 tl\n",
    "#iki üç ve dört kullanıcı için sırasıyla 20,30 ve 40tl teklif sunmak istiyor. Kullanıcı sayısı burdaki dördünden biri değilse\n",
    "#hizmet sunamıyor. Müşteri geçen ay faturasını ödemediyse fiyat teklifi almak yerine geçen ayki faturasını ödemesi için uyarı\n",
    "#alıyor. Eğer kullanıcı son 6 ayda faturalarını düzenli ödediyse yüzde 50 indirim alıyor. \n",
    "number_of_user = 3, "
   ]
  },
  {
   "cell_type": "code",
   "execution_count": 18,
   "metadata": {},
   "outputs": [],
   "source": [
    "number_of_user = 5\n",
    "unpaid_bill = False\n",
    "last_6months = True"
   ]
  },
  {
   "cell_type": "code",
   "execution_count": 19,
   "metadata": {},
   "outputs": [
    {
     "name": "stdout",
     "output_type": "stream",
     "text": [
      "maalesef hizmet sunduğumuz kullanıcı kapsamında değilsiniz\n"
     ]
    }
   ],
   "source": [
    "if(unpaid_bill):\n",
    "    print(\"ödenmemiş faturanız bulunmakta\")\n",
    "elif(last_6months):\n",
    "    \n",
    "    if(number_of_user == 1):\n",
    "        print(\"5tl ödemeniz gerekmekte\")\n",
    "    elif(number_of_user == 2):\n",
    "        print(\"10tl ödemeniz gerekmekte\")\n",
    "    elif(number_of_user == 3):\n",
    "        print(\"15tl ödemeniz gerekmekte\")\n",
    "    elif(number_of_user == 4):\n",
    "        print(\"20tl ödemeniz gerekmekte\")\n",
    "    else:\n",
    "        print(\"maalesef hizmet sunduğumuz kullanıcı kapsamında değilsiniz\")\n",
    "    \n",
    "else:\n",
    "    if(number_of_user == 1):\n",
    "        print(\"10tl ödemeniz gerekmekte\")\n",
    "    elif(number_of_user == 2):\n",
    "        print(\"20tl ödemeniz gerekmekte\")\n",
    "    elif(number_of_user == 3):\n",
    "        print(\"30tl ödemeniz gerekmekte\")\n",
    "    elif(number_of_user == 4):\n",
    "        print(\"40tl ödemeniz gerekmekte\")\n",
    "    else:\n",
    "        print(\"maalesef hizmet sunduğumuz kullanıcı kapsamında değilsiniz\")\n",
    "    "
   ]
  },
  {
   "cell_type": "markdown",
   "metadata": {},
   "source": [
    "# SOLUTIONS"
   ]
  },
  {
   "cell_type": "markdown",
   "metadata": {},
   "source": [
    "## Even Fibonacci numbers"
   ]
  },
  {
   "cell_type": "code",
   "execution_count": null,
   "metadata": {},
   "outputs": [],
   "source": [
    "#1 2 3 5 8 13 21 34 55 89 144\n",
    "pre_sum=0\n",
    "last_sum=1\n",
    "#Beautiful\n",
    "for i in range(0,100):\n",
    "    print(last_sum)\n",
    "    last_sum_temp=last_sum\n",
    "    last_sum=pre_sum+last_sum\n",
    "    pre_sum=last_sum_temp\n",
    "yagmurellasulatte=[1,1]  \n",
    "\n",
    "sum=0\n",
    "\n",
    "for i in range(0,100):\n",
    "    sum=yagmurellasulatte[i] + yagmurellasulatte[i+1]\n",
    "    yagmurellasulatte.append(sum)\n",
    "\n"
   ]
  },
  {
   "cell_type": "markdown",
   "metadata": {},
   "source": [
    "APPEND"
   ]
  },
  {
   "cell_type": "code",
   "execution_count": 21,
   "metadata": {},
   "outputs": [
    {
     "name": "stdout",
     "output_type": "stream",
     "text": [
      "[1, 2, 3]\n"
     ]
    }
   ],
   "source": [
    "zeynos=[1,2,3]\n",
    "print(zeynos)"
   ]
  },
  {
   "cell_type": "code",
   "execution_count": 22,
   "metadata": {},
   "outputs": [
    {
     "name": "stdout",
     "output_type": "stream",
     "text": [
      "[1, 2, 3, 4]\n"
     ]
    }
   ],
   "source": [
    "zeynos.append(4)\n",
    "print(zeynos)"
   ]
  },
  {
   "cell_type": "code",
   "execution_count": 23,
   "metadata": {},
   "outputs": [
    {
     "data": {
      "text/plain": [
       "2"
      ]
     },
     "execution_count": 23,
     "metadata": {},
     "output_type": "execute_result"
    }
   ],
   "source": [
    "zeynos[1]"
   ]
  },
  {
   "cell_type": "markdown",
   "metadata": {},
   "source": [
    "Order in reverse Fibonacci numbers "
   ]
  },
  {
   "cell_type": "code",
   "execution_count": 24,
   "metadata": {},
   "outputs": [
    {
     "name": "stdout",
     "output_type": "stream",
     "text": [
      "927372692193078999176\n",
      "573147844013817084101\n",
      "354224848179261915075\n",
      "218922995834555169026\n",
      "135301852344706746049\n",
      "83621143489848422977\n",
      "51680708854858323072\n",
      "31940434634990099905\n",
      "19740274219868223167\n",
      "12200160415121876738\n",
      "7540113804746346429\n",
      "4660046610375530309\n",
      "2880067194370816120\n",
      "1779979416004714189\n",
      "1100087778366101931\n",
      "679891637638612258\n",
      "420196140727489673\n",
      "259695496911122585\n",
      "160500643816367088\n",
      "99194853094755497\n",
      "61305790721611591\n",
      "37889062373143906\n",
      "23416728348467685\n",
      "14472334024676221\n",
      "8944394323791464\n",
      "5527939700884757\n",
      "3416454622906707\n",
      "2111485077978050\n",
      "1304969544928657\n",
      "806515533049393\n",
      "498454011879264\n",
      "308061521170129\n",
      "190392490709135\n",
      "117669030460994\n",
      "72723460248141\n",
      "44945570212853\n",
      "27777890035288\n",
      "17167680177565\n",
      "10610209857723\n",
      "6557470319842\n",
      "4052739537881\n",
      "2504730781961\n",
      "1548008755920\n",
      "956722026041\n",
      "591286729879\n",
      "365435296162\n",
      "225851433717\n",
      "139583862445\n",
      "86267571272\n",
      "53316291173\n",
      "32951280099\n",
      "20365011074\n",
      "12586269025\n",
      "7778742049\n",
      "4807526976\n",
      "2971215073\n",
      "1836311903\n",
      "1134903170\n",
      "701408733\n",
      "433494437\n",
      "267914296\n",
      "165580141\n",
      "102334155\n",
      "63245986\n",
      "39088169\n",
      "24157817\n",
      "14930352\n",
      "9227465\n",
      "5702887\n",
      "3524578\n",
      "2178309\n",
      "1346269\n",
      "832040\n",
      "514229\n",
      "317811\n",
      "196418\n",
      "121393\n",
      "75025\n",
      "46368\n",
      "28657\n",
      "17711\n",
      "10946\n",
      "6765\n",
      "4181\n",
      "2584\n",
      "1597\n",
      "987\n",
      "610\n",
      "377\n",
      "233\n",
      "144\n",
      "89\n",
      "55\n",
      "34\n",
      "21\n",
      "13\n",
      "8\n",
      "5\n",
      "3\n",
      "2\n"
     ]
    }
   ],
   "source": [
    "pre_sum=573147844013817084101\n",
    "last_sum=927372692193078999176\n",
    "#soBeautiful\n",
    "for i in range(0,100):\n",
    "    print(last_sum)\n",
    "    pre_sum_temp=pre_sum\n",
    "    pre_sum=last_sum-pre_sum\n",
    "    last_sum=pre_sum_temp"
   ]
  },
  {
   "cell_type": "markdown",
   "metadata": {},
   "source": [
    "## Multiples of 3 or 5"
   ]
  },
  {
   "cell_type": "code",
   "execution_count": null,
   "metadata": {},
   "outputs": [],
   "source": [
    "for i in range (0,10001):\n",
    "    if ((i%3)==0) or ((i%5)==0):\n",
    "        print(i)"
   ]
  },
  {
   "cell_type": "code",
   "execution_count": null,
   "metadata": {},
   "outputs": [],
   "source": [
    "sum=0\n",
    "for i in range (0,10001):\n",
    "    if ((i%3)==0) or ((i%5)==0):\n",
    "        sum=sum+1\n",
    "print(sum)\n",
    "        "
   ]
  },
  {
   "cell_type": "markdown",
   "metadata": {},
   "source": [
    "## Sum square difference"
   ]
  },
  {
   "cell_type": "code",
   "execution_count": 25,
   "metadata": {},
   "outputs": [
    {
     "name": "stdout",
     "output_type": "stream",
     "text": [
      "2640\n"
     ]
    }
   ],
   "source": [
    "sumOfSquares=0\n",
    "for i in range (0,11):\n",
    "    sumOfSquares=sumOfSquares + i**2\n",
    "\n",
    "Sum=0\n",
    "for k in range(0,11):\n",
    "    Sum=(Sum+k)\n",
    "squaresOfSum=((Sum)**2)\n",
    "\n",
    "print(squaresOfSum-sumOfSquares)"
   ]
  },
  {
   "cell_type": "markdown",
   "metadata": {},
   "source": [
    "## Special Pythagorean triplet"
   ]
  },
  {
   "cell_type": "code",
   "execution_count": 28,
   "metadata": {},
   "outputs": [
    {
     "name": "stdout",
     "output_type": "stream",
     "text": [
      "200 375 425 31875000\n"
     ]
    }
   ],
   "source": [
    "for a in range (0,1000):\n",
    "    for b in range (0,1000):\n",
    "        for c in range (0,1000):\n",
    "            if (c > b) and (b > a):\n",
    "                if (a**2 + b**2 == c**2):\n",
    "                    if (a+b+c == 1000) :\n",
    "                        print(a, b, c, a*b*c)\n",
    "                        break;"
   ]
  },
  {
   "cell_type": "markdown",
   "metadata": {},
   "source": [
    "## COINS SUM"
   ]
  },
  {
   "cell_type": "code",
   "execution_count": 29,
   "metadata": {},
   "outputs": [
    {
     "ename": "KeyboardInterrupt",
     "evalue": "",
     "output_type": "error",
     "traceback": [
      "\u001b[1;31m---------------------------------------------------------------------------\u001b[0m",
      "\u001b[1;31mKeyboardInterrupt\u001b[0m                         Traceback (most recent call last)",
      "\u001b[1;32m<ipython-input-29-0ee06c078e23>\u001b[0m in \u001b[0;36m<module>\u001b[1;34m\u001b[0m\n\u001b[0;32m      8\u001b[0m                         \u001b[1;32mfor\u001b[0m \u001b[0mg\u001b[0m \u001b[1;32min\u001b[0m \u001b[0mrange\u001b[0m \u001b[1;33m(\u001b[0m\u001b[1;36m0\u001b[0m\u001b[1;33m,\u001b[0m\u001b[1;36m3\u001b[0m\u001b[1;33m)\u001b[0m\u001b[1;33m:\u001b[0m\u001b[1;33m\u001b[0m\u001b[1;33m\u001b[0m\u001b[0m\n\u001b[0;32m      9\u001b[0m                             \u001b[1;32mfor\u001b[0m \u001b[0mh\u001b[0m \u001b[1;32min\u001b[0m \u001b[0mrange\u001b[0m \u001b[1;33m(\u001b[0m\u001b[1;36m0\u001b[0m\u001b[1;33m,\u001b[0m\u001b[1;36m2\u001b[0m\u001b[1;33m)\u001b[0m\u001b[1;33m:\u001b[0m\u001b[1;33m\u001b[0m\u001b[1;33m\u001b[0m\u001b[0m\n\u001b[1;32m---> 10\u001b[1;33m                                 \u001b[1;32mif\u001b[0m \u001b[1;33m(\u001b[0m\u001b[0ma\u001b[0m\u001b[1;33m*\u001b[0m\u001b[1;36m1\u001b[0m \u001b[1;33m+\u001b[0m \u001b[0mb\u001b[0m\u001b[1;33m*\u001b[0m\u001b[1;36m2\u001b[0m \u001b[1;33m+\u001b[0m \u001b[0mc\u001b[0m\u001b[1;33m*\u001b[0m\u001b[1;36m5\u001b[0m \u001b[1;33m+\u001b[0m \u001b[0md\u001b[0m\u001b[1;33m*\u001b[0m\u001b[1;36m10\u001b[0m \u001b[1;33m+\u001b[0m \u001b[0me\u001b[0m\u001b[1;33m*\u001b[0m\u001b[1;36m20\u001b[0m \u001b[1;33m+\u001b[0m \u001b[0mf\u001b[0m\u001b[1;33m*\u001b[0m\u001b[1;36m50\u001b[0m \u001b[1;33m+\u001b[0m \u001b[0mg\u001b[0m\u001b[1;33m*\u001b[0m\u001b[1;36m100\u001b[0m \u001b[1;33m+\u001b[0m \u001b[0mh\u001b[0m\u001b[1;33m*\u001b[0m\u001b[1;36m200\u001b[0m \u001b[1;33m==\u001b[0m \u001b[1;36m200\u001b[0m\u001b[1;33m)\u001b[0m\u001b[1;33m:\u001b[0m\u001b[1;33m\u001b[0m\u001b[1;33m\u001b[0m\u001b[0m\n\u001b[0m\u001b[0;32m     11\u001b[0m                                     \u001b[0mmoney\u001b[0m\u001b[1;33m=\u001b[0m\u001b[0ma\u001b[0m\u001b[1;33m*\u001b[0m\u001b[1;36m1\u001b[0m \u001b[1;33m+\u001b[0m \u001b[0mb\u001b[0m\u001b[1;33m*\u001b[0m\u001b[1;36m2\u001b[0m \u001b[1;33m+\u001b[0m \u001b[0mc\u001b[0m\u001b[1;33m*\u001b[0m\u001b[1;36m5\u001b[0m \u001b[1;33m+\u001b[0m \u001b[0md\u001b[0m\u001b[1;33m*\u001b[0m\u001b[1;36m10\u001b[0m \u001b[1;33m+\u001b[0m \u001b[0me\u001b[0m\u001b[1;33m*\u001b[0m\u001b[1;36m20\u001b[0m \u001b[1;33m+\u001b[0m \u001b[0mf\u001b[0m\u001b[1;33m*\u001b[0m\u001b[1;36m50\u001b[0m \u001b[1;33m+\u001b[0m \u001b[0mg\u001b[0m\u001b[1;33m*\u001b[0m\u001b[1;36m100\u001b[0m \u001b[1;33m+\u001b[0m \u001b[0mh\u001b[0m\u001b[1;33m*\u001b[0m\u001b[1;36m200\u001b[0m\u001b[1;33m\u001b[0m\u001b[1;33m\u001b[0m\u001b[0m\n\u001b[0;32m     12\u001b[0m                                     \u001b[0msum\u001b[0m\u001b[1;33m.\u001b[0m\u001b[0mappend\u001b[0m\u001b[1;33m(\u001b[0m\u001b[0mmoney\u001b[0m\u001b[1;33m)\u001b[0m\u001b[1;33m\u001b[0m\u001b[1;33m\u001b[0m\u001b[0m\n",
      "\u001b[1;31mKeyboardInterrupt\u001b[0m: "
     ]
    }
   ],
   "source": [
    "sum=[0,1]\n",
    "for a in range (0,201):\n",
    "    for b in range (0,101):\n",
    "        for c in range (0,41):\n",
    "            for d in range (0,21):\n",
    "                for e in range (0,11):\n",
    "                    for f in range (0,5):\n",
    "                        for g in range (0,3):\n",
    "                            for h in range (0,2):\n",
    "                                if (a*1 + b*2 + c*5 + d*10 + e*20 + f*50 + g*100 + h*200 == 200):\n",
    "                                    money=a*1 + b*2 + c*5 + d*10 + e*20 + f*50 + g*100 + h*200\n",
    "                                    sum.append(money)\n",
    "print(len(sum))"
   ]
  },
  {
   "cell_type": "code",
   "execution_count": null,
   "metadata": {},
   "outputs": [],
   "source": [
    "count=0\n",
    "for a in range (0,201):\n",
    "    for b in range (0,101):\n",
    "        for c in range (0,41):\n",
    "            for d in range (0,21):\n",
    "                for e in range (0,11):\n",
    "                    for f in range (0,5):\n",
    "                        for g in range (0,3):\n",
    "                            for h in range (0,2):\n",
    "                                if (a*1 + b*2 + c*5 + d*10 + e*20 + f*50 + g*100 + h*200 == 200):\n",
    "                                    count+=1\n",
    "print(count)"
   ]
  },
  {
   "cell_type": "markdown",
   "metadata": {},
   "source": [
    "## 10001st prime"
   ]
  },
  {
   "cell_type": "code",
   "execution_count": null,
   "metadata": {},
   "outputs": [],
   "source": [
    "primes=[2]\n",
    "for i in range (2,1000000):\n",
    "    for k in primes:\n",
    "        if (i%k==0):\n",
    "             break;\n",
    "        if(k==primes[len(primes)-1]):\n",
    "            primes.append(i)\n",
    "    if(len(primes)==10001):\n",
    "        print(i)\n",
    "        break"
   ]
  },
  {
   "cell_type": "code",
   "execution_count": null,
   "metadata": {},
   "outputs": [],
   "source": [
    "primes[10000]"
   ]
  },
  {
   "cell_type": "code",
   "execution_count": null,
   "metadata": {},
   "outputs": [],
   "source": [
    "primes=[2]\n",
    "for i in range(2,1000000):\n",
    "    for k in primes:\n",
    "        if (i%k==0):\n",
    "            break;\n",
    "        if (k==primes[len(primes)-1]): \n",
    "            primes.append(i)\n",
    "            \n",
    "    if(len(primes)==10001):\n",
    "        print(i)\n",
    "        break"
   ]
  },
  {
   "cell_type": "code",
   "execution_count": null,
   "metadata": {},
   "outputs": [],
   "source": [
    "len(primes)"
   ]
  },
  {
   "cell_type": "markdown",
   "metadata": {},
   "source": [
    "## Largest product in a series"
   ]
  },
  {
   "cell_type": "code",
   "execution_count": null,
   "metadata": {},
   "outputs": [],
   "source": [
    "A=[0]\n",
    "k=0\n",
    "pre_product_temp=0\n",
    "\n",
    "numbers= 7316717653133062491922511967442657474235534919493496983520312774506326239578318016984801869478851843858615607891129494954595017379583319528532088055111254069874715852386305071569329096329522744304355766896648950445244523161731856403098711121722383113622298934233803081353362766142828064444866452387493035890729629049156044077239071381051585930796086670172427121883998797908792274921901699720888093776657273330010533678812202354218097512545405947522435258490771167055601360483958644670632441572215539753697817977846174064955149290862569321978468622482839722413756570560574902614079729686524145351004748216637048440319989000889524345065854122758866688116427171479924442928230863465674813919123162824586178664583591245665294765456828489128831426076900422421902267105562632111110937054421750694165896040807198403850962455444362981230987879927244284909188845801561660979191338754992005240636899125607176060588611646710940507754100225698315520005593572972571636269561882670428252483600823257530420752963450\n",
    "x = [int(a) for a in str(numbers)]\n",
    "print(x)\n",
    "\n",
    "for i in range(0,100000000):\n",
    "    preproduct=pre_product_temp\n",
    "    pre_product_temp= (x[k]* x[k+1]* x[k+2]* x[k+3]* x[k+4]* x[k+5]* x[k+6]* x[k+7]* x[k+8]* x[k+9]* x[k+10]* x[k+11]* x[k+12])\n",
    "    k+=1\n",
    "    if (pre_product_temp>preproduct):\n",
    "        pre_product_temp=preproduct\n",
    "        preproduct.append(A)\n",
    "    \n",
    "print(preproduct)"
   ]
  },
  {
   "cell_type": "code",
   "execution_count": null,
   "metadata": {},
   "outputs": [],
   "source": [
    "numbers= 7316717653133062491922511967442657474235534919493496983520312774506326239578318016984801869478851843858615607891129494954595017379583319528532088055111254069874715852386305071569329096329522744304355766896648950445244523161731856403098711121722383113622298934233803081353362766142828064444866452387493035890729629049156044077239071381051585930796086670172427121883998797908792274921901699720888093776657273330010533678812202354218097512545405947522435258490771167055601360483958644670632441572215539753697817977846174064955149290862569321978468622482839722413756570560574902614079729686524145351004748216637048440319989000889524345065854122758866688116427171479924442928230863465674813919123162824586178664583591245665294765456828489128831426076900422421902267105562632111110937054421750694165896040807198403850962455444362981230987879927244284909188845801561660979191338754992005240636899125607176060588611646710940507754100225698315520005593572972571636269561882670428252483600823257530420752963450\n",
    "x = [int(a) for a in str(numbers)]\n",
    "print(x)"
   ]
  },
  {
   "cell_type": "code",
   "execution_count": null,
   "metadata": {},
   "outputs": [],
   "source": [
    "k=0\n",
    "for i in range(0,10000):\n",
    "    pre_product_temp= (x[k]* x[k+1]* x[k+2]* x[k+3]* x[k+4]* x[k+5]* x[k+6]* x[k+7]* x[k+8]* x[k+9]* x[k+10]* x[k+11]* x[k+12])\n",
    "    k=k+1"
   ]
  },
  {
   "cell_type": "code",
   "execution_count": null,
   "metadata": {},
   "outputs": [],
   "source": [
    "numbers= 7316717653133062491922511967442657474235534919493496983520312774506326239578318016984801869478851843858615607891129494954595017379583319528532088055111254069874715852386305071569329096329522744304355766896648950445244523161731856403098711121722383113622298934233803081353362766142828064444866452387493035890729629049156044077239071381051585930796086670172427121883998797908792274921901699720888093776657273330010533678812202354218097512545405947522435258490771167055601360483958644670632441572215539753697817977846174064955149290862569321978468622482839722413756570560574902614079729686524145351004748216637048440319989000889524345065854122758866688116427171479924442928230863465674813919123162824586178664583591245665294765456828489128831426076900422421902267105562632111110937054421750694165896040807198403850962455444362981230987879927244284909188845801561660979191338754992005240636899125607176060588611646710940507754100225698315520005593572972571636269561882670428252483600823257530420752963450\n",
    "x = [int(a) for a in str(numbers)]\n",
    "\n",
    "preproduct=0\n",
    "for k in range(0,len(x)-14):\n",
    "    pre_product_temp=(x[k]* x[k+1]* x[k+2]* x[k+3]* x[k+4]* x[k+5]* x[k+6]* x[k+7]* x[k+8]* x[k+9]* x[k+10]* x[k+11]* x[k+12])\n",
    "    if (pre_product_temp>preproduct):\n",
    "        preproduct=pre_product_temp\n",
    "    #if(k+12==len(x)-1) :\n",
    "       # break\n",
    "print(preproduct)  "
   ]
  },
  {
   "cell_type": "code",
   "execution_count": 72,
   "metadata": {},
   "outputs": [
    {
     "name": "stdout",
     "output_type": "stream",
     "text": [
      "21171191\n",
      "21171191\n"
     ]
    }
   ],
   "source": [
    "primes=[2]\n",
    "for i in range (2,20000):\n",
    "    for k in primes:\n",
    "        if (i%k==0):\n",
    "            break\n",
    "        if(k==primes[len(primes)-1]):    \n",
    "            primes.append(i)\n",
    "            \n",
    "sum=0\n",
    "for i in range(0,100000000000000000000000000000000000000000000000000000000000000000000000000000000000000000000000000000000000):\n",
    "    if (len(primes)==0):\n",
    "        break\n",
    "    if(len(primes)==1):\n",
    "        sum+=primes[0]\n",
    "        break\n",
    "    sum+=primes[0]+primes[1]\n",
    "    primes.pop(0)\n",
    "    primes.pop(0)  \n",
    "primes=[2]\n",
    "for i in range (2,20000):\n",
    "    for k in primes:\n",
    "        if (i%k==0):\n",
    "            break\n",
    "        if(k==primes[len(primes)-1]):    \n",
    "            primes.append(i)\n",
    "sum2=0\n",
    "for i in range(0,100000000000000000000000000000000000000000000000000000000000000000000000000000000000000000000000000000000000):\n",
    "    if (len(primes)==0):\n",
    "        break\n",
    "    sum2+=primes[0]\n",
    "    primes.pop(0)\n",
    " \n",
    " \n",
    "\n",
    "print(sum)\n",
    "print(sum2)"
   ]
  },
  {
   "cell_type": "code",
   "execution_count": 70,
   "metadata": {},
   "outputs": [
    {
     "name": "stdout",
     "output_type": "stream",
     "text": [
      "0\n",
      "1\n",
      "2\n",
      "bbirinci döngü sonu\n",
      "0\n",
      "1\n",
      "2\n",
      "4\n",
      "5\n",
      "6\n",
      "7\n",
      "8\n",
      "9\n"
     ]
    }
   ],
   "source": [
    "for i in range(0,10):\n",
    "    if(i==3):\n",
    "        break\n",
    "    print(i)\n",
    "print(\"bbirinci döngü sonu\")\n",
    "for k in range(0,10):\n",
    "    if(k==3):\n",
    "        continue\n",
    "    print(k)"
   ]
  },
  {
   "cell_type": "code",
   "execution_count": null,
   "metadata": {},
   "outputs": [],
   "source": [
    "primes=[2]\n",
    "for i in range(2,1000000):\n",
    "    for k in primes:\n",
    "        if (i%k==0):\n",
    "            break;\n",
    "        if (k==primes[len(primes)-1]): \n",
    "            primes.append(i)\n",
    "            \n",
    "    if(len(primes)==10001):\n",
    "        print(i)\n",
    "        break"
   ]
  },
  {
   "cell_type": "code",
   "execution_count": 60,
   "metadata": {},
   "outputs": [],
   "source": [
    "a=[1,2,3]"
   ]
  },
  {
   "cell_type": "code",
   "execution_count": 61,
   "metadata": {},
   "outputs": [
    {
     "name": "stdout",
     "output_type": "stream",
     "text": [
      "2\n"
     ]
    },
    {
     "data": {
      "text/plain": [
       "[2, 3]"
      ]
     },
     "execution_count": 61,
     "metadata": {},
     "output_type": "execute_result"
    }
   ],
   "source": [
    "b=a[1]\n",
    "print(b)\n",
    "a.pop(0)\n",
    "a"
   ]
  },
  {
   "cell_type": "markdown",
   "metadata": {},
   "source": [
    "## Pandigital Products 9 digit numbers "
   ]
  },
  {
   "cell_type": "code",
   "execution_count": 121,
   "metadata": {},
   "outputs": [],
   "source": [
    "import numpy as np\n",
    "\n",
    "expectedNumber = 123456789\n",
    "listProducts = []\n",
    "\n",
    "for multiplicand in range(0, 999) :\n",
    "    for multiplier in range(0, 9999) :\n",
    "        if int(multiplicand) <= int(multiplier) :\n",
    "            product = multiplicand * multiplier \n",
    "            \n",
    "            multiplier = str(multiplier) \n",
    "            forDigitNumberMultiplier = len(multiplier)\n",
    "            digitNumberMultiplier=format(forDigitNumberMultiplier)\n",
    "             \n",
    "\n",
    "            multiplicand = str(multiplicand) \n",
    "            forDigitNumberMultiplicand = len(multiplicand)\n",
    "            digitNumberMultiplicand = format(forDigitNumberMultiplicand)\n",
    "            \n",
    "\n",
    "            product = str(product) \n",
    "            forDigitNumber = len(product)\n",
    "            digitNumber = format(forDigitNumber)\n",
    "            \n",
    "            \n",
    "            if digitNumberMultiplier + digitNumberMultiplicand + digitNumber == 9:\n",
    "                preMultiplicatedNumberlist = int(str(digitNumberMultiplier) + str(digitNumberMultiplicand) + str(digitNumber))\n",
    "                ascending = \"\".join(sorted(str(preMultiplicatedNumberlist)))\n",
    "                if int(ascending) == expectedNumber:\n",
    "                    listProducts.append(product)\n",
    "                    print(len(listProducts))\n",
    "                \n",
    "            \n",
    "      \n",
    "    \n",
    "    \n",
    "        \n",
    "    "
   ]
  },
  {
   "cell_type": "code",
   "execution_count": 92,
   "metadata": {},
   "outputs": [
    {
     "data": {
      "text/plain": [
       "'6'"
      ]
     },
     "execution_count": 92,
     "metadata": {},
     "output_type": "execute_result"
    }
   ],
   "source": [
    "multiplier=100\n",
    "multiplicand=1000\n",
    "product = multiplicand * multiplier \n",
    "\n",
    "multiplier = str(multiplier) \n",
    "digitNumberMultiplier = len(multiplier)\n",
    "format(digitNumberMultiplier)\n",
    "\n",
    "multiplicand = str(multiplicand) \n",
    "digitNumberMultiplicand = len(multiplicand)\n",
    "format(digitNumberMultiplicand)\n",
    "\n",
    "product = str(product) \n",
    "digitNumber = len(product)\n",
    "format(digitNumber)\n",
    "\n",
    "            multiplier = str(multiplier) \n",
    "            digitNumberMultiplier = len(multiplier)\n",
    "            (format(digitNumberMultiplier))\n",
    "                        \n",
    "            multiplicand = str(multiplicand) \n",
    "            digitNumberMultiplicand = len(multiplicand)\n",
    "            (format(digitNumberMultiplicand))\n",
    "\n",
    "            product = str(product) \n",
    "            digitNumber = len(product)\n",
    "            (format(digitNumber))"
   ]
  },
  {
   "cell_type": "code",
   "execution_count": null,
   "metadata": {},
   "outputs": [],
   "source": [
    "a= np.arange(0, 4)\n",
    "b= np.arange(0, 10)\n",
    "for i in a:\n",
    "    for k in b:\n",
    "        while i < k :\n",
    "            \n",
    "            break"
   ]
  },
  {
   "cell_type": "code",
   "execution_count": null,
   "metadata": {},
   "outputs": [],
   "source": [
    "a= np.arange(0, 4)\n",
    "b= np.arange(0, 10)\n",
    "for i in a:\n",
    "    for k in b:\n",
    "        print(i+k)"
   ]
  },
  {
   "cell_type": "code",
   "execution_count": 39,
   "metadata": {},
   "outputs": [
    {
     "name": "stdout",
     "output_type": "stream",
     "text": [
      "1\n",
      "2\n",
      "3\n",
      "4\n",
      "5\n",
      "6\n",
      "7\n",
      "8\n",
      "9\n",
      "10\n",
      "3\n",
      "4\n",
      "5\n",
      "6\n",
      "7\n",
      "8\n",
      "9\n",
      "10\n",
      "11\n",
      "5\n",
      "6\n",
      "7\n",
      "8\n",
      "9\n",
      "10\n",
      "11\n",
      "12\n",
      "7\n",
      "8\n",
      "9\n",
      "10\n",
      "11\n",
      "12\n",
      "13\n",
      "9\n",
      "10\n",
      "11\n",
      "12\n",
      "13\n",
      "14\n",
      "11\n",
      "12\n",
      "13\n",
      "14\n",
      "15\n",
      "13\n",
      "14\n",
      "15\n",
      "16\n",
      "15\n",
      "16\n",
      "17\n",
      "17\n",
      "18\n",
      "19\n"
     ]
    }
   ],
   "source": [
    "for i in range(0,11):\n",
    "    for k in range(0,11):\n",
    "        if i<k:\n",
    "            print(i+k)"
   ]
  },
  {
   "cell_type": "code",
   "execution_count": 97,
   "metadata": {},
   "outputs": [
    {
     "name": "stdout",
     "output_type": "stream",
     "text": [
      "adding all items\n",
      "elma armut\n"
     ]
    }
   ],
   "source": [
    "def add(a, b):\n",
    "    print (\"adding all items\")\n",
    "    return a + b\n",
    "\n",
    "fruits = (\"elma \")\n",
    "beverages = (\"armut\")\n",
    "\n",
    "all_items = add(fruits, beverages)\n",
    "print (all_items)\n"
   ]
  },
  {
   "cell_type": "code",
   "execution_count": 119,
   "metadata": {},
   "outputs": [
    {
     "data": {
      "text/plain": [
       "str"
      ]
     },
     "execution_count": 119,
     "metadata": {},
     "output_type": "execute_result"
    }
   ],
   "source": [
    "preMultiplicatedNumberlist=1234567\n",
    "ascending = \"\".join(sorted(str(preMultiplicatedNumberlist)))\n",
    "type(ascending)"
   ]
  },
  {
   "cell_type": "code",
   "execution_count": null,
   "metadata": {},
   "outputs": [],
   "source": []
  }
 ],
 "metadata": {
  "kernelspec": {
   "display_name": "Python 3",
   "language": "python",
   "name": "python3"
  },
  "language_info": {
   "codemirror_mode": {
    "name": "ipython",
    "version": 3
   },
   "file_extension": ".py",
   "mimetype": "text/x-python",
   "name": "python",
   "nbconvert_exporter": "python",
   "pygments_lexer": "ipython3",
   "version": "3.7.4"
  }
 },
 "nbformat": 4,
 "nbformat_minor": 2
}
